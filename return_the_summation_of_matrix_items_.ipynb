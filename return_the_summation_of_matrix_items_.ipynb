{
  "nbformat": 4,
  "nbformat_minor": 0,
  "metadata": {
    "colab": {
      "name": "return the summation of matrix items .ipynb",
      "provenance": [],
      "authorship_tag": "ABX9TyOrg1a1OVOTnth50hP1woHW",
      "include_colab_link": true
    },
    "kernelspec": {
      "name": "python3",
      "display_name": "Python 3"
    },
    "language_info": {
      "name": "python"
    }
  },
  "cells": [
    {
      "cell_type": "markdown",
      "metadata": {
        "id": "view-in-github",
        "colab_type": "text"
      },
      "source": [
        "<a href=\"https://colab.research.google.com/github/Bahaarabi2019/bahaasaif/blob/master/return_the_summation_of_matrix_items_.ipynb\" target=\"_parent\"><img src=\"https://colab.research.google.com/assets/colab-badge.svg\" alt=\"Open In Colab\"/></a>"
      ]
    },
    {
      "cell_type": "code",
      "metadata": {
        "colab": {
          "base_uri": "https://localhost:8080/"
        },
        "id": "q6JQYSP6NoNO",
        "outputId": "4f8557fa-d73d-4e06-c059-f734c6af1a97"
      },
      "source": [
        "numbers = [1,2,3,4,5,30,80,5.7] \n",
        "Sum = sum(numbers) \n",
        "print(Sum)"
      ],
      "execution_count": 2,
      "outputs": [
        {
          "output_type": "stream",
          "text": [
            "130.7\n"
          ],
          "name": "stdout"
        }
      ]
    }
  ]
}