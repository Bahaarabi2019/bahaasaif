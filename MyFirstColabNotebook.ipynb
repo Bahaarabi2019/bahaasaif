{
  "nbformat": 4,
  "nbformat_minor": 0,
  "metadata": {
    "colab": {
      "name": "MyFirstColabNotebook.ipynb",
      "provenance": [],
      "toc_visible": true,
      "authorship_tag": "ABX9TyOVABRfFxuk0pmoHZWb4VzX",
      "include_colab_link": true
    },
    "kernelspec": {
      "name": "python3",
      "display_name": "Python 3"
    }
  },
  "cells": [
    {
      "cell_type": "markdown",
      "metadata": {
        "id": "view-in-github",
        "colab_type": "text"
      },
      "source": [
        "<a href=\"https://colab.research.google.com/github/Bahaarabi2019/bahaasaif/blob/master/MyFirstColabNotebook.ipynb\" target=\"_parent\"><img src=\"https://colab.research.google.com/assets/colab-badge.svg\" alt=\"Open In Colab\"/></a>"
      ]
    },
    {
      "cell_type": "code",
      "metadata": {
        "id": "6dxtEi78kurb",
        "colab_type": "code",
        "colab": {}
      },
      "source": [
        "import time\n",
        "print (time.ctime())"
      ],
      "execution_count": 0,
      "outputs": []
    },
    {
      "cell_type": "code",
      "metadata": {
        "id": "IGEf9NtXmr-e",
        "colab_type": "code",
        "colab": {}
      },
      "source": [
        "time.sleep(20)\n",
        "print (time.ctime())\n"
      ],
      "execution_count": 0,
      "outputs": []
    },
    {
      "cell_type": "markdown",
      "metadata": {
        "id": "YWYvM3odqOKk",
        "colab_type": "text"
      },
      "source": [
        "my name is bahaa **bold**\n",
        "ahmed my friend is *italic*"
      ]
    },
    {
      "cell_type": "markdown",
      "metadata": {
        "id": "j3KK3P84rIFq",
        "colab_type": "text"
      },
      "source": [
        "[link text](https://)$\\sqrt{44y+1}+(3x+4)$"
      ]
    },
    {
      "cell_type": "code",
      "metadata": {
        "id": "qdDV9w1bu1sk",
        "colab_type": "code",
        "colab": {}
      },
      "source": [
        "message = 'a great training python by tutrialpoints !'\n",
        "greeting= !echo -e '$message\\n$message'\n",
        "greeting"
      ],
      "execution_count": 0,
      "outputs": []
    },
    {
      "cell_type": "code",
      "metadata": {
        "id": "yu5UXoqwxEew",
        "colab_type": "code",
        "colab": {}
      },
      "source": [
        "!wget http://mlr.cs.umass.edu/ml/machine-learning-databases/adult/adult.data _p\"content/drive/My Drive/app\""
      ],
      "execution_count": 0,
      "outputs": []
    },
    {
      "cell_type": "code",
      "metadata": {
        "id": "DON0McS60zm6",
        "colab_type": "code",
        "colab": {}
      },
      "source": [
        "import pandas as pd\n",
        "data = pd.read_csv(\"  / content/drive/My Drive/app/adult.data\")\n",
        "data.head(5)"
      ],
      "execution_count": 0,
      "outputs": []
    },
    {
      "cell_type": "code",
      "metadata": {
        "id": "dbWunqbi-jsq",
        "colab_type": "code",
        "colab": {}
      },
      "source": [
        "!git clone https://github.com/wxs/keras_mnist_tutrial.git"
      ],
      "execution_count": 0,
      "outputs": []
    },
    {
      "cell_type": "code",
      "metadata": {
        "id": "SnV_YhkuABiK",
        "colab_type": "code",
        "colab": {}
      },
      "source": [
        "!1s / bin"
      ],
      "execution_count": 0,
      "outputs": []
    },
    {
      "cell_type": "code",
      "metadata": {
        "id": "yAAUBZM2Aseu",
        "colab_type": "code",
        "colab": {}
      },
      "source": [
        "from google.colab import drive\n",
        "drive.mount('/content/drive')"
      ],
      "execution_count": 0,
      "outputs": []
    },
    {
      "cell_type": "code",
      "metadata": {
        "id": "p3GL63E4DcY_",
        "colab_type": "code",
        "outputId": "8f565476-d8d8-48ac-ed18-cd951c6dfa0d",
        "colab": {
          "base_uri": "https://localhost:8080/",
          "height": 36
        }
      },
      "source": [
        "print (\"hello\")"
      ],
      "execution_count": 0,
      "outputs": [
        {
          "output_type": "stream",
          "text": [
            "hello\n"
          ],
          "name": "stdout"
        }
      ]
    },
    {
      "cell_type": "code",
      "metadata": {
        "id": "9wG-mW2mTBXo",
        "colab_type": "code",
        "colab": {}
      },
      "source": [
        "x=8\n",
        "y=9\n",
        "z=x+y\n",
        "print (z)\n",
        "v=(z)^2\n",
        "print (v)\n",
        "\n",
        "\n"
      ],
      "execution_count": 0,
      "outputs": []
    },
    {
      "cell_type": "code",
      "metadata": {
        "id": "Mi0u6QPqQfnT",
        "colab_type": "code",
        "colab": {}
      },
      "source": [
        "a=67\n",
        "print ('a')\n",
        "print (type(a))\n",
        "b= \"ahmed\"\n",
        "print (type(b))\n",
        "c=5.9\n",
        "print (type(c))\n",
        "\n",
        "thiscase= True\n",
        "thatcase= False\n",
        "print (thiscase)\n",
        "print (thatcase)\n",
        "print (not thiscase)\n",
        "print (not thatcase)\n",
        "\n",
        "d=5+2j\n",
        "print (type(d))\n",
        "aa= str(a)\n",
        "print (type(aa))\n",
        "f= complex (a,c)\n",
        "print (\"f\")\n",
        "print (f.imag)\n",
        "print (f.real)\n",
        "h=bin(678)\n",
        "print (h)\n",
        "g= bool (0.9)\n",
        "print (g)\n",
        "g2= bool (0)\n",
        "print (g2)\n"
      ],
      "execution_count": 0,
      "outputs": []
    },
    {
      "cell_type": "code",
      "metadata": {
        "colab_type": "code",
        "id": "UVLAbMjQsDdn",
        "colab": {}
      },
      "source": [
        "a=90\n",
        "a2=-90\n",
        "a3=-8.9\n",
        "a4=7.6\n",
        "b=80\n",
        "c=a+b\n",
        "d=a/b\n",
        "e=a*b\n",
        "f=a-b\n",
        "g=a//b\n",
        "h=a==b\n",
        "i=b//a\n",
        "j=a<b\n",
        "k=a>b\n",
        "l=abs(a2)\n",
        "m=a<a2<b\n",
        "n=int(a3)\n",
        "o=int(a4)\n",
        "p=complex(a,b)\n",
        "q=a**b\n",
        "r=divmod(a,b)\n",
        "t=pow(b,a)\n",
        "s=((a**e)**c)\n",
        "print (c)\n",
        "print (d)\n",
        "print (e)\n",
        "print (f)\n",
        "print (g)\n",
        "print (h)\n",
        "print (i)\n",
        "print (j)\n",
        "print (k)\n",
        "print (l)\n",
        "print (m)\n",
        "print (n)\n",
        "print (o)\n",
        "print (p)\n",
        "print (q)\n",
        "print (q)\n",
        "print (t)\n",
        "print (s)"
      ],
      "execution_count": 0,
      "outputs": []
    }
  ]
}