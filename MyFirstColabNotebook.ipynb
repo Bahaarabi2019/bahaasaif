{
  "nbformat": 4,
  "nbformat_minor": 0,
  "metadata": {
    "colab": {
      "name": "MyFirstColabNotebook.ipynb",
      "provenance": [],
      "toc_visible": true,
      "authorship_tag": "ABX9TyN2KsaXA/fH3Q+B1KmtyR00",
      "include_colab_link": true
    },
    "kernelspec": {
      "name": "python3",
      "display_name": "Python 3"
    }
  },
  "cells": [
    {
      "cell_type": "markdown",
      "metadata": {
        "id": "view-in-github",
        "colab_type": "text"
      },
      "source": [
        "<a href=\"https://colab.research.google.com/github/Bahaarabi2019/bahaasaif/blob/master/MyFirstColabNotebook.ipynb\" target=\"_parent\"><img src=\"https://colab.research.google.com/assets/colab-badge.svg\" alt=\"Open In Colab\"/></a>"
      ]
    },
    {
      "cell_type": "code",
      "metadata": {
        "id": "6dxtEi78kurb",
        "colab_type": "code",
        "colab": {}
      },
      "source": [
        "import time \n",
        "print (time.ctime())"
      ],
      "execution_count": 0,
      "outputs": []
    },
    {
      "cell_type": "code",
      "metadata": {
        "id": "IGEf9NtXmr-e",
        "colab_type": "code",
        "colab": {}
      },
      "source": [
        "time.sleep(20)\n",
        "print (time.ctime())\n"
      ],
      "execution_count": 0,
      "outputs": []
    },
    {
      "cell_type": "markdown",
      "metadata": {
        "id": "YWYvM3odqOKk",
        "colab_type": "text"
      },
      "source": [
        "my name is bahaa **bold**\n",
        "ahmed my friend is *italic*"
      ]
    },
    {
      "cell_type": "markdown",
      "metadata": {
        "id": "j3KK3P84rIFq",
        "colab_type": "text"
      },
      "source": [
        "$\\sqrt{44y+1}+(3x+4)$"
      ]
    }
  ]
}