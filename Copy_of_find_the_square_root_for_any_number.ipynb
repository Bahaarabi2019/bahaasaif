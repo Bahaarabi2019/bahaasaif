{
  "nbformat": 4,
  "nbformat_minor": 0,
  "metadata": {
    "colab": {
      "name": "Copy of find the square root for any number.ipynb",
      "provenance": [],
      "collapsed_sections": [],
      "authorship_tag": "ABX9TyMjX9sSwhaDx3Mp629iEPc0",
      "include_colab_link": true
    },
    "kernelspec": {
      "name": "python3",
      "display_name": "Python 3"
    }
  },
  "cells": [
    {
      "cell_type": "markdown",
      "metadata": {
        "id": "view-in-github",
        "colab_type": "text"
      },
      "source": [
        "<a href=\"https://colab.research.google.com/github/Bahaarabi2019/bahaasaif/blob/master/Copy_of_find_the_square_root_for_any_number.ipynb\" target=\"_parent\"><img src=\"https://colab.research.google.com/assets/colab-badge.svg\" alt=\"Open In Colab\"/></a>"
      ]
    },
    {
      "cell_type": "code",
      "metadata": {
        "id": "Hwxqhk1WV0_y",
        "colab": {
          "base_uri": "https://localhost:8080/"
        },
        "outputId": "f7bfc931-0a3a-4f01-9d74-1f9d831f9444"
      },
      "source": [
        "#This code to estimate the square root for any number\r\n",
        "#it is easy to change the number every time \r\n",
        "number=16\r\n",
        "number_sqrt=number**0.5\r\n",
        "print ('the square root of %0.3f is %0.3f'%(number,number_sqrt))"
      ],
      "execution_count": 1,
      "outputs": [
        {
          "output_type": "stream",
          "text": [
            "the square root of 16.000 is 4.000\n"
          ],
          "name": "stdout"
        }
      ]
    }
  ]
}