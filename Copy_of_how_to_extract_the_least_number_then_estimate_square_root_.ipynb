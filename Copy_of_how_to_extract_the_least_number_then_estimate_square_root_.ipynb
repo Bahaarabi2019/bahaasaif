{
  "nbformat": 4,
  "nbformat_minor": 0,
  "metadata": {
    "colab": {
      "name": "Copy of how to extract the least number then estimate square root .ipynb",
      "provenance": [],
      "collapsed_sections": [],
      "authorship_tag": "ABX9TyOguc67qxMbKa8tmy9k8a3m",
      "include_colab_link": true
    },
    "kernelspec": {
      "name": "python3",
      "display_name": "Python 3"
    }
  },
  "cells": [
    {
      "cell_type": "markdown",
      "metadata": {
        "id": "view-in-github",
        "colab_type": "text"
      },
      "source": [
        "<a href=\"https://colab.research.google.com/github/Bahaarabi2019/bahaasaif/blob/master/Copy_of_how_to_extract_the_least_number_then_estimate_square_root_.ipynb\" target=\"_parent\"><img src=\"https://colab.research.google.com/assets/colab-badge.svg\" alt=\"Open In Colab\"/></a>"
      ]
    },
    {
      "cell_type": "code",
      "metadata": {
        "id": "lRfCnBNNdcn0",
        "colab": {
          "base_uri": "https://localhost:8080/"
        },
        "outputId": "cba264a4-f74c-488c-d7ae-f9325b4f55ec"
      },
      "source": [
        " #change the values of num1 ,num2,num3,num4,num5 and num 6\n",
        "num1=5\n",
        "num2=10\n",
        "num3=15\n",
        "num4=20\n",
        "num5=25\n",
        "num6=30\n",
        "if (num1 <=num2) and (num1 <=num3 <=num4 <=num5 <=num6) :\n",
        "    least = num1\n",
        "elif (num2 <= num1) and (num2 <=num3 <=num4 <=num5 <=num6) :\n",
        "    least = num2\n",
        "elif (num3 <= num2)  and (num3 <=num4 <=num5 <=num6):\n",
        "    least = num3\n",
        "elif (num4 <=num3) and (num4 <=num5 <=num6):\n",
        "    least =num4\n",
        "elif (num5<=num4) and (num5 <=num6):\n",
        "    least =num5\n",
        "else:\n",
        "    least =num6\n",
        "print (\"The least number is\",least )"
      ],
      "execution_count": 1,
      "outputs": [
        {
          "output_type": "stream",
          "text": [
            "The least number is 5\n"
          ],
          "name": "stdout"
        }
      ]
    },
    {
      "cell_type": "code",
      "metadata": {
        "id": "Hwxqhk1WV0_y",
        "colab": {
          "base_uri": "https://localhost:8080/"
        },
        "outputId": "dfd5e439-4780-4e56-f524-fecb5ca48bc5"
      },
      "source": [
        "least_sqrt=least**0.5\r\n",
        "print ('the square root of %0.3f is %0.3f'%(least,least_sqrt))"
      ],
      "execution_count": 2,
      "outputs": [
        {
          "output_type": "stream",
          "text": [
            "the square root of 5.000 is 2.236\n"
          ],
          "name": "stdout"
        }
      ]
    }
  ]
}