{
  "nbformat": 4,
  "nbformat_minor": 0,
  "metadata": {
    "colab": {
      "name": "random choice game.ipynb",
      "provenance": [],
      "authorship_tag": "ABX9TyNrQViB5izYrVIr24ANb3wV",
      "include_colab_link": true
    },
    "kernelspec": {
      "name": "python3",
      "display_name": "Python 3"
    },
    "language_info": {
      "name": "python"
    }
  },
  "cells": [
    {
      "cell_type": "markdown",
      "metadata": {
        "id": "view-in-github",
        "colab_type": "text"
      },
      "source": [
        "<a href=\"https://colab.research.google.com/github/Bahaarabi2019/bahaasaif/blob/master/random_choice_game.ipynb\" target=\"_parent\"><img src=\"https://colab.research.google.com/assets/colab-badge.svg\" alt=\"Open In Colab\"/></a>"
      ]
    },
    {
      "cell_type": "code",
      "metadata": {
        "colab": {
          "base_uri": "https://localhost:8080/"
        },
        "id": "pJt6fEQXmuIO",
        "outputId": "69d79497-0823-4c8c-9ed7-993df288ead3"
      },
      "source": [
        "from random import randint\n",
        "player = input('rock (r), paper (p), scissors (s)? ')\n",
        "chosen = randint(1,3)\n",
        "if chosen == 1:\n",
        "    computer = 'r'\n",
        "elif chosen == 2:\n",
        "    computer = 'p'\n",
        "else:\n",
        "    computer = 's'\n",
        "print(player, \"vs\", computer) \n",
        "if player == computer:\n",
        "    print(\"DRAW!\")\n",
        "elif player == 'r' and computer == 'p':\n",
        "    print('Computer Win')\n",
        "elif player == 'p' and computer == 'r':\n",
        "    print('Player Win')\n",
        "elif player == 's' and computer == 'r':\n",
        "    print('Computer Win')\n",
        "elif player == 'r' and computer == 's':\n",
        "    print('Player Win')\n",
        "elif player == 's' and computer == 'p':\n",
        "    print('Player Win')\n",
        "elif player == 'p' and computer == 's':\n",
        "    print('Computer Win')"
      ],
      "execution_count": 1,
      "outputs": [
        {
          "output_type": "stream",
          "text": [
            "rock (r), paper (p), scissors (s)? s\n",
            "s vs p\n",
            "Player Win\n"
          ],
          "name": "stdout"
        }
      ]
    }
  ]
}