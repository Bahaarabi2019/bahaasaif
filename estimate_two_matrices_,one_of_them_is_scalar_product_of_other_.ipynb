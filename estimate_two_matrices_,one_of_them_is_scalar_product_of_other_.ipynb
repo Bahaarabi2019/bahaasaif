{
  "nbformat": 4,
  "nbformat_minor": 0,
  "metadata": {
    "colab": {
      "name": "estimate two matrices ,one of them is scalar product of other .ipynb",
      "provenance": [],
      "authorship_tag": "ABX9TyOp8AQsqBrQN6vGcb8eJ9no",
      "include_colab_link": true
    },
    "kernelspec": {
      "name": "python3",
      "display_name": "Python 3"
    },
    "language_info": {
      "name": "python"
    }
  },
  "cells": [
    {
      "cell_type": "markdown",
      "metadata": {
        "id": "view-in-github",
        "colab_type": "text"
      },
      "source": [
        "<a href=\"https://colab.research.google.com/github/Bahaarabi2019/bahaasaif/blob/master/estimate_two_matrices_%2Cone_of_them_is_scalar_product_of_other_.ipynb\" target=\"_parent\"><img src=\"https://colab.research.google.com/assets/colab-badge.svg\" alt=\"Open In Colab\"/></a>"
      ]
    },
    {
      "cell_type": "code",
      "metadata": {
        "colab": {
          "base_uri": "https://localhost:8080/"
        },
        "id": "dxgFUXL5bwBT",
        "outputId": "dc54c348-4d5e-4b90-8ac7-82b09f62c685"
      },
      "source": [
        "#estimate two matrices first A1,second A2\n",
        "#you can change the values as you wish\n",
        "A1 = [1,2,3,4,5,6,7,8,9,10,11,12,13,14,15,16,17,18]\n",
        "A2 = []\n",
        "for i in A1:\n",
        "#A2 is scalar product of A1(here we put 9 as scalar value)    \n",
        "    A2.append(i*9)\n",
        "print(A2)"
      ],
      "execution_count": 2,
      "outputs": [
        {
          "output_type": "stream",
          "text": [
            "[9, 18, 27, 36, 45, 54, 63, 72, 81, 90, 99, 108, 117, 126, 135, 144, 153, 162]\n"
          ],
          "name": "stdout"
        }
      ]
    }
  ]
}