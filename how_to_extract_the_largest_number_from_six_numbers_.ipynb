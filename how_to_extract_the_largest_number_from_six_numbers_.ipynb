{
  "nbformat": 4,
  "nbformat_minor": 0,
  "metadata": {
    "colab": {
      "name": "how to extract the largest number from six numbers .ipynb",
      "provenance": [],
      "collapsed_sections": [],
      "authorship_tag": "ABX9TyN+KJHd0fMbw8D/Sambf8ZY",
      "include_colab_link": true
    },
    "kernelspec": {
      "name": "python3",
      "display_name": "Python 3"
    }
  },
  "cells": [
    {
      "cell_type": "markdown",
      "metadata": {
        "id": "view-in-github",
        "colab_type": "text"
      },
      "source": [
        "<a href=\"https://colab.research.google.com/github/Bahaarabi2019/bahaasaif/blob/master/how_to_extract_the_largest_number_from_six_numbers_.ipynb\" target=\"_parent\"><img src=\"https://colab.research.google.com/assets/colab-badge.svg\" alt=\"Open In Colab\"/></a>"
      ]
    },
    {
      "cell_type": "code",
      "metadata": {
        "colab": {
          "base_uri": "https://localhost:8080/"
        },
        "id": "sCvwFqasmu_b",
        "outputId": "1e59afe9-d739-4005-d2c6-5288fb725089"
      },
      "source": [
        "#change the values of num1 ,num2,num3,num4,num5 and num 6\r\n",
        "num1=5\r\n",
        "num2=10\r\n",
        "num3=15\r\n",
        "num4=20\r\n",
        "num5=25\r\n",
        "num6=30\r\n",
        "if (num1 >=num2) and (num1 >=num3 >=num4 >=num5 >=num6) :\r\n",
        "    largest = num1\r\n",
        "elif (num2 >= num1) and (num2 >=num3 >=num4 >=num5 >=num6) :\r\n",
        "    largest = num2\r\n",
        "elif (num3 >= num2)  and (num3 >=num4 >=num5 >=num6):\r\n",
        "    largest = num3\r\n",
        "elif (num4 >=num3) and (num4 >=num5 >=num6):\r\n",
        "    largest =num4\r\n",
        "elif (num5>=num4) and (num5>=num6):\r\n",
        "    largest =num5\r\n",
        "else:\r\n",
        "    largest =num6\r\n",
        "print (\"The largest number is\",largest)"
      ],
      "execution_count": 1,
      "outputs": [
        {
          "output_type": "stream",
          "text": [
            "The largest number is 30\n"
          ],
          "name": "stdout"
        }
      ]
    }
  ]
}