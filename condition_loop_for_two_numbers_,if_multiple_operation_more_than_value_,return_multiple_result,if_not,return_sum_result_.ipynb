{
  "nbformat": 4,
  "nbformat_minor": 0,
  "metadata": {
    "colab": {
      "name": "condition loop for two numbers ,if multiple operation more than value ,return multiple result,if not,return sum result .ipynb",
      "provenance": [],
      "collapsed_sections": [],
      "authorship_tag": "ABX9TyOhaembf9zZp5VohiKWysYF",
      "include_colab_link": true
    },
    "kernelspec": {
      "name": "python3",
      "display_name": "Python 3"
    },
    "language_info": {
      "name": "python"
    }
  },
  "cells": [
    {
      "cell_type": "markdown",
      "metadata": {
        "id": "view-in-github",
        "colab_type": "text"
      },
      "source": [
        "<a href=\"https://colab.research.google.com/github/Bahaarabi2019/bahaasaif/blob/master/condition_loop_for_two_numbers_%2Cif_multiple_operation_more_than_value_%2Creturn_multiple_result%2Cif_not%2Creturn_sum_result_.ipynb\" target=\"_parent\"><img src=\"https://colab.research.google.com/assets/colab-badge.svg\" alt=\"Open In Colab\"/></a>"
      ]
    },
    {
      "cell_type": "code",
      "metadata": {
        "colab": {
          "base_uri": "https://localhost:8080/"
        },
        "id": "UF6qvnTpIsrP",
        "outputId": "2e56b677-63ae-4df9-88f3-f37f337d572d"
      },
      "source": [
        "#This code to apply condition loop,estimating two numbers ,\n",
        "#if multiplication more than some value ,\n",
        "#then you return  the product,if not\n",
        "#the result return  the sum of two numbers\n",
        "def multi_or_sum(num1, num2):\n",
        "    product = num1 * num2\n",
        "    if product >= 7000:   #you can change the value as you wish\n",
        "      return product \n",
        "    else: return num1 + num2\n",
        "num1 =int(input('number1 is:'))  #you can change the value as you wish\n",
        "print (num1)\n",
        "num2 =int(input('number2 is:'))  #you can change the value as you wish\n",
        "print (num2)\n",
        "result = multi_or_sum(num1, num2)\n",
        "print(\"The result is\", result)"
      ],
      "execution_count": 3,
      "outputs": [
        {
          "output_type": "stream",
          "text": [
            "number1 is:4999\n",
            "4999\n",
            "number2 is:55555\n",
            "55555\n",
            "The result is 277719445\n"
          ],
          "name": "stdout"
        }
      ]
    }
  ]
}