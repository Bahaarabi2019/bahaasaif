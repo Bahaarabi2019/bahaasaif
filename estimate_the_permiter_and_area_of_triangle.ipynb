{
  "nbformat": 4,
  "nbformat_minor": 0,
  "metadata": {
    "colab": {
      "name": "estimate the permiter and area of triangle.ipynb",
      "provenance": [],
      "authorship_tag": "ABX9TyNAzjhDNtL/f5MGpAiWfhuM",
      "include_colab_link": true
    },
    "kernelspec": {
      "name": "python3",
      "display_name": "Python 3"
    }
  },
  "cells": [
    {
      "cell_type": "markdown",
      "metadata": {
        "id": "view-in-github",
        "colab_type": "text"
      },
      "source": [
        "<a href=\"https://colab.research.google.com/github/Bahaarabi2019/bahaasaif/blob/master/estimate_the_permiter_and_area_of_triangle.ipynb\" target=\"_parent\"><img src=\"https://colab.research.google.com/assets/colab-badge.svg\" alt=\"Open In Colab\"/></a>"
      ]
    },
    {
      "cell_type": "code",
      "metadata": {
        "colab": {
          "base_uri": "https://localhost:8080/"
        },
        "id": "dh7BrTLG2XSg",
        "outputId": "1ac0bbce-1c72-48f4-89f3-6f647891b29b"
      },
      "source": [
        "# a = float(input('Enter first side: '))\r\n",
        "# b = float(input('Enter second side: '))\r\n",
        "# c = float(input('Enter third side: '))\r\n",
        "#you can change the vallues of a,b,c\r\n",
        "\r\n",
        "a = 5\r\n",
        "b = 6\r\n",
        "c = 7\r\n",
        "# calculate the perimeter \r\n",
        "# calculate the semi-perimeter as s\r\n",
        "perimeter = (a + b + c)##3\r\n",
        "s = (a + b + c) / 2\r\n",
        "\r\n",
        "# calculate the area\r\n",
        "area = (s*(s-a)*(s-b)*(s-c)) ** 0.5\r\n",
        "print('The perimeter of the triangle is %0.2f' %perimeter)\r\n",
        "print('The area of the triangle is %0.2f' %area)"
      ],
      "execution_count": 1,
      "outputs": [
        {
          "output_type": "stream",
          "text": [
            "The perimeter of the triangle is 18.00\n",
            "The area of the triangle is 14.70\n"
          ],
          "name": "stdout"
        }
      ]
    }
  ]
}